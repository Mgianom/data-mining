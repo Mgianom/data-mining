{
  "nbformat": 4,
  "nbformat_minor": 0,
  "metadata": {
    "colab": {
      "name": "preprocessing.ipynb",
      "provenance": []
    },
    "kernelspec": {
      "name": "python3",
      "display_name": "Python 3"
    },
    "language_info": {
      "name": "python"
    }
  },
  "cells": [
    {
      "cell_type": "code",
      "execution_count": 1,
      "metadata": {
        "id": "RJp8P-45yhp3"
      },
      "outputs": [],
      "source": [
        "import numpy as np\n",
        "import matplotlib.pyplot as plt\n",
        "import pandas as pd"
      ]
    },
    {
      "cell_type": "markdown",
      "source": [
        "Numpy merupakan library python digunakan untuk komputasi matrik.\n",
        "Matplotlib merupakan library python untuk presentasi data berupa grafik atau plot."
      ],
      "metadata": {
        "id": "ywUtAgyq1XBY"
      }
    },
    {
      "cell_type": "code",
      "source": [
        "dataset = pd.read_csv('diskominfo-od_15309_jumlah_relawan_tik_berdasarkan_kabupatenkota_data.csv')\n",
        "x = dataset.iloc[:, :-1].values\n",
        "y = dataset.iloc[:, -1].values"
      ],
      "metadata": {
        "id": "bZEvwWCO1syA"
      },
      "execution_count": 6,
      "outputs": []
    },
    {
      "cell_type": "code",
      "source": [
        "print(x)"
      ],
      "metadata": {
        "colab": {
          "base_uri": "https://localhost:8080/"
        },
        "id": "TLpkWfB0301_",
        "outputId": "715b0e78-4f3d-4b04-ca69-bab98de97660"
      },
      "execution_count": 4,
      "outputs": [
        {
          "output_type": "stream",
          "name": "stdout",
          "text": [
            "[[1 32 'JAWA BARAT' 'BEKASI' 21 'ORANG']\n",
            " [2 32 'JAWA BARAT' 'BOGOR' 102 'ORANG']\n",
            " [3 32 'JAWA BARAT' 'KABUPATEN BANDUNG' 21 'ORANG']\n",
            " [4 32 'JAWA BARAT' 'KABUPATEN BANDUNG BARAT' 63 'ORANG']\n",
            " [5 32 'JAWA BARAT' 'KABUPATEN CIAMIS' 3 'ORANG']\n",
            " [6 32 'JAWA BARAT' 'KABUPATEN CIANJUR' 18 'ORANG']\n",
            " [7 32 'JAWA BARAT' 'KABUPATEN CIREBON' 6 'ORANG']\n",
            " [8 32 'JAWA BARAT' 'KABUPATEN GARUT' 96 'ORANG']\n",
            " [9 32 'JAWA BARAT' 'KABUPATEN INDRAMAYU' 6 'ORANG']\n",
            " [10 32 'JAWA BARAT' 'KABUPATEN KARAWANG' 40 'ORANG']\n",
            " [11 32 'JAWA BARAT' 'KABUPATEN KUNINGAN' 54 'ORANG']\n",
            " [12 32 'JAWA BARAT' 'KABUPATEN MAJALENGKA' 41 'ORANG']\n",
            " [13 32 'JAWA BARAT' 'KABUPATEN PANGANDARAN' 1 'ORANG']\n",
            " [14 32 'JAWA BARAT' 'KABUPATEN PURWAKARTA' 4 'ORANG']\n",
            " [15 32 'JAWA BARAT' 'KABUPATEN SUBANG' 21 'ORANG']\n",
            " [16 32 'JAWA BARAT' 'KABUPATEN SUMEDANG' 9 'ORANG']\n",
            " [17 32 'JAWA BARAT' 'KABUPATEN TASIKMALAYA' 1 'ORANG']\n",
            " [18 32 'JAWA BARAT' 'KOTA BANDUNG' 166 'ORANG']\n",
            " [19 32 'JAWA BARAT' 'KOTA BANJAR' 4 'ORANG']\n",
            " [20 32 'JAWA BARAT' 'KOTA CIMAHI' 34 'ORANG']\n",
            " [21 32 'JAWA BARAT' 'KOTA CIREBON' 93 'ORANG']\n",
            " [22 32 'JAWA BARAT' 'KOTA DEPOK' 30 'ORANG']\n",
            " [23 32 'JAWA BARAT' 'KOTA TASIKMALAYA' 8 'ORANG']\n",
            " [24 32 'JAWA BARAT' 'SUKABUMI' 20 'ORANG']\n",
            " [25 32 'JAWA BARAT' 'BEKASI' 21 'ORANG']\n",
            " [26 32 'JAWA BARAT' 'BOGOR' 37 'ORANG']\n",
            " [27 32 'JAWA BARAT' 'KABUPATEN BANDUNG' 40 'ORANG']\n",
            " [28 32 'JAWA BARAT' 'KABUPATEN BANDUNG BARAT' 20 'ORANG']\n",
            " [29 32 'JAWA BARAT' 'KABUPATEN CIAMIS' 3 'ORANG']\n",
            " [30 32 'JAWA BARAT' 'KABUPATEN CIANJUR' 25 'ORANG']\n",
            " [31 32 'JAWA BARAT' 'KABUPATEN CIREBON' 14 'ORANG']\n",
            " [32 32 'JAWA BARAT' 'KABUPATEN GARUT' 105 'ORANG']\n",
            " [33 32 'JAWA BARAT' 'KABUPATEN INDRAMAYU' 45 'ORANG']\n",
            " [34 32 'JAWA BARAT' 'KABUPATEN KARAWANG' 40 'ORANG']\n",
            " [35 32 'JAWA BARAT' 'KABUPATEN KUNINGAN' 21 'ORANG']\n",
            " [36 32 'JAWA BARAT' 'KABUPATEN MAJALENGKA' 43 'ORANG']\n",
            " [37 32 'JAWA BARAT' 'KABUPATEN PANGANDARAN' 5 'ORANG']\n",
            " [38 32 'JAWA BARAT' 'KABUPATEN PURWAKARTA' 7 'ORANG']\n",
            " [39 32 'JAWA BARAT' 'KABUPATEN SUBANG' 21 'ORANG']\n",
            " [40 32 'JAWA BARAT' 'KABUPATEN SUMEDANG' 13 'ORANG']\n",
            " [41 32 'JAWA BARAT' 'KABUPATEN TASIKMALAYA' 4 'ORANG']\n",
            " [42 32 'JAWA BARAT' 'KOTA BANDUNG' 20 'ORANG']\n",
            " [43 32 'JAWA BARAT' 'KOTA BANJAR' 5 'ORANG']\n",
            " [44 32 'JAWA BARAT' 'KOTA CIMAHI' 35 'ORANG']\n",
            " [45 32 'JAWA BARAT' 'KOTA CIREBON' 85 'ORANG']\n",
            " [46 32 'JAWA BARAT' 'KOTA DEPOK' 15 'ORANG']\n",
            " [47 32 'JAWA BARAT' 'KOTA TASIKMALAYA' 5 'ORANG']\n",
            " [48 32 'JAWA BARAT' 'SUKABUMI' 20 'ORANG']]\n"
          ]
        }
      ]
    },
    {
      "cell_type": "code",
      "source": [
        "print(y)"
      ],
      "metadata": {
        "colab": {
          "base_uri": "https://localhost:8080/"
        },
        "id": "v7aayUvP37v5",
        "outputId": "84f0e906-9051-45c6-f85e-447062c453cc"
      },
      "execution_count": 7,
      "outputs": [
        {
          "output_type": "stream",
          "name": "stdout",
          "text": [
            "[2019 2019 2019 2019 2019 2019 2019 2019 2019 2019 2019 2019 2019 2019\n",
            " 2019 2019 2019 2019 2019 2019 2019 2019 2019 2019 2021 2021 2021 2021\n",
            " 2021 2021 2021 2021 2021 2021 2021 2021 2021 2021 2021 2021 2021 2021\n",
            " 2021 2021 2021 2021 2021 2021]\n"
          ]
        }
      ]
    },
    {
      "cell_type": "code",
      "source": [
        "from sklearn.impute import SimpleImputer\n",
        "imputer = SimpleImputer(missing_values=np.nan, strategy='mean')\n",
        "imputer.fit(x[:, 1:3])\n",
        "x[:, 1:3] = imputer.transform(x[:, 1:3])"
      ],
      "metadata": {
        "id": "Q_CleVEm47Hp"
      },
      "execution_count": null,
      "outputs": []
    },
    {
      "cell_type": "code",
      "source": [
        "print(x)"
      ],
      "metadata": {
        "colab": {
          "base_uri": "https://localhost:8080/"
        },
        "id": "GLDhx0y-53LO",
        "outputId": "4cd5cdec-23ed-42c3-b2cd-0c80f525f592"
      },
      "execution_count": 11,
      "outputs": [
        {
          "output_type": "stream",
          "name": "stdout",
          "text": [
            "[[1 32 'JAWA BARAT' 'BEKASI' 21 'ORANG']\n",
            " [2 32 'JAWA BARAT' 'BOGOR' 102 'ORANG']\n",
            " [3 32 'JAWA BARAT' 'KABUPATEN BANDUNG' 21 'ORANG']\n",
            " [4 32 'JAWA BARAT' 'KABUPATEN BANDUNG BARAT' 63 'ORANG']\n",
            " [5 32 'JAWA BARAT' 'KABUPATEN CIAMIS' 3 'ORANG']\n",
            " [6 32 'JAWA BARAT' 'KABUPATEN CIANJUR' 18 'ORANG']\n",
            " [7 32 'JAWA BARAT' 'KABUPATEN CIREBON' 6 'ORANG']\n",
            " [8 32 'JAWA BARAT' 'KABUPATEN GARUT' 96 'ORANG']\n",
            " [9 32 'JAWA BARAT' 'KABUPATEN INDRAMAYU' 6 'ORANG']\n",
            " [10 32 'JAWA BARAT' 'KABUPATEN KARAWANG' 40 'ORANG']\n",
            " [11 32 'JAWA BARAT' 'KABUPATEN KUNINGAN' 54 'ORANG']\n",
            " [12 32 'JAWA BARAT' 'KABUPATEN MAJALENGKA' 41 'ORANG']\n",
            " [13 32 'JAWA BARAT' 'KABUPATEN PANGANDARAN' 1 'ORANG']\n",
            " [14 32 'JAWA BARAT' 'KABUPATEN PURWAKARTA' 4 'ORANG']\n",
            " [15 32 'JAWA BARAT' 'KABUPATEN SUBANG' 21 'ORANG']\n",
            " [16 32 'JAWA BARAT' 'KABUPATEN SUMEDANG' 9 'ORANG']\n",
            " [17 32 'JAWA BARAT' 'KABUPATEN TASIKMALAYA' 1 'ORANG']\n",
            " [18 32 'JAWA BARAT' 'KOTA BANDUNG' 166 'ORANG']\n",
            " [19 32 'JAWA BARAT' 'KOTA BANJAR' 4 'ORANG']\n",
            " [20 32 'JAWA BARAT' 'KOTA CIMAHI' 34 'ORANG']\n",
            " [21 32 'JAWA BARAT' 'KOTA CIREBON' 93 'ORANG']\n",
            " [22 32 'JAWA BARAT' 'KOTA DEPOK' 30 'ORANG']\n",
            " [23 32 'JAWA BARAT' 'KOTA TASIKMALAYA' 8 'ORANG']\n",
            " [24 32 'JAWA BARAT' 'SUKABUMI' 20 'ORANG']\n",
            " [25 32 'JAWA BARAT' 'BEKASI' 21 'ORANG']\n",
            " [26 32 'JAWA BARAT' 'BOGOR' 37 'ORANG']\n",
            " [27 32 'JAWA BARAT' 'KABUPATEN BANDUNG' 40 'ORANG']\n",
            " [28 32 'JAWA BARAT' 'KABUPATEN BANDUNG BARAT' 20 'ORANG']\n",
            " [29 32 'JAWA BARAT' 'KABUPATEN CIAMIS' 3 'ORANG']\n",
            " [30 32 'JAWA BARAT' 'KABUPATEN CIANJUR' 25 'ORANG']\n",
            " [31 32 'JAWA BARAT' 'KABUPATEN CIREBON' 14 'ORANG']\n",
            " [32 32 'JAWA BARAT' 'KABUPATEN GARUT' 105 'ORANG']\n",
            " [33 32 'JAWA BARAT' 'KABUPATEN INDRAMAYU' 45 'ORANG']\n",
            " [34 32 'JAWA BARAT' 'KABUPATEN KARAWANG' 40 'ORANG']\n",
            " [35 32 'JAWA BARAT' 'KABUPATEN KUNINGAN' 21 'ORANG']\n",
            " [36 32 'JAWA BARAT' 'KABUPATEN MAJALENGKA' 43 'ORANG']\n",
            " [37 32 'JAWA BARAT' 'KABUPATEN PANGANDARAN' 5 'ORANG']\n",
            " [38 32 'JAWA BARAT' 'KABUPATEN PURWAKARTA' 7 'ORANG']\n",
            " [39 32 'JAWA BARAT' 'KABUPATEN SUBANG' 21 'ORANG']\n",
            " [40 32 'JAWA BARAT' 'KABUPATEN SUMEDANG' 13 'ORANG']\n",
            " [41 32 'JAWA BARAT' 'KABUPATEN TASIKMALAYA' 4 'ORANG']\n",
            " [42 32 'JAWA BARAT' 'KOTA BANDUNG' 20 'ORANG']\n",
            " [43 32 'JAWA BARAT' 'KOTA BANJAR' 5 'ORANG']\n",
            " [44 32 'JAWA BARAT' 'KOTA CIMAHI' 35 'ORANG']\n",
            " [45 32 'JAWA BARAT' 'KOTA CIREBON' 85 'ORANG']\n",
            " [46 32 'JAWA BARAT' 'KOTA DEPOK' 15 'ORANG']\n",
            " [47 32 'JAWA BARAT' 'KOTA TASIKMALAYA' 5 'ORANG']\n",
            " [48 32 'JAWA BARAT' 'SUKABUMI' 20 'ORANG']]\n"
          ]
        }
      ]
    },
    {
      "cell_type": "code",
      "source": [
        "from sklearn.compose import ColumnTransformer\n",
        "from sklearn.preprocessing import OneHotEncoder\n",
        "ct = ColumnTransformer(transformers=[('encoder', OneHotEncoder(), [0])],remainder='passthrough')\n",
        "x = np.array(ct.fit_transform(x))"
      ],
      "metadata": {
        "id": "ydqQimZG-na2"
      },
      "execution_count": null,
      "outputs": []
    },
    {
      "cell_type": "code",
      "source": [
        "print (x)"
      ],
      "metadata": {
        "colab": {
          "base_uri": "https://localhost:8080/"
        },
        "id": "YYRHuOCE-wfR",
        "outputId": "e9fd9473-1113-4836-f0ba-a2f65e3f0664"
      },
      "execution_count": 13,
      "outputs": [
        {
          "output_type": "stream",
          "name": "stdout",
          "text": [
            "[[1 32 'JAWA BARAT' 'BEKASI' 21 'ORANG']\n",
            " [2 32 'JAWA BARAT' 'BOGOR' 102 'ORANG']\n",
            " [3 32 'JAWA BARAT' 'KABUPATEN BANDUNG' 21 'ORANG']\n",
            " [4 32 'JAWA BARAT' 'KABUPATEN BANDUNG BARAT' 63 'ORANG']\n",
            " [5 32 'JAWA BARAT' 'KABUPATEN CIAMIS' 3 'ORANG']\n",
            " [6 32 'JAWA BARAT' 'KABUPATEN CIANJUR' 18 'ORANG']\n",
            " [7 32 'JAWA BARAT' 'KABUPATEN CIREBON' 6 'ORANG']\n",
            " [8 32 'JAWA BARAT' 'KABUPATEN GARUT' 96 'ORANG']\n",
            " [9 32 'JAWA BARAT' 'KABUPATEN INDRAMAYU' 6 'ORANG']\n",
            " [10 32 'JAWA BARAT' 'KABUPATEN KARAWANG' 40 'ORANG']\n",
            " [11 32 'JAWA BARAT' 'KABUPATEN KUNINGAN' 54 'ORANG']\n",
            " [12 32 'JAWA BARAT' 'KABUPATEN MAJALENGKA' 41 'ORANG']\n",
            " [13 32 'JAWA BARAT' 'KABUPATEN PANGANDARAN' 1 'ORANG']\n",
            " [14 32 'JAWA BARAT' 'KABUPATEN PURWAKARTA' 4 'ORANG']\n",
            " [15 32 'JAWA BARAT' 'KABUPATEN SUBANG' 21 'ORANG']\n",
            " [16 32 'JAWA BARAT' 'KABUPATEN SUMEDANG' 9 'ORANG']\n",
            " [17 32 'JAWA BARAT' 'KABUPATEN TASIKMALAYA' 1 'ORANG']\n",
            " [18 32 'JAWA BARAT' 'KOTA BANDUNG' 166 'ORANG']\n",
            " [19 32 'JAWA BARAT' 'KOTA BANJAR' 4 'ORANG']\n",
            " [20 32 'JAWA BARAT' 'KOTA CIMAHI' 34 'ORANG']\n",
            " [21 32 'JAWA BARAT' 'KOTA CIREBON' 93 'ORANG']\n",
            " [22 32 'JAWA BARAT' 'KOTA DEPOK' 30 'ORANG']\n",
            " [23 32 'JAWA BARAT' 'KOTA TASIKMALAYA' 8 'ORANG']\n",
            " [24 32 'JAWA BARAT' 'SUKABUMI' 20 'ORANG']\n",
            " [25 32 'JAWA BARAT' 'BEKASI' 21 'ORANG']\n",
            " [26 32 'JAWA BARAT' 'BOGOR' 37 'ORANG']\n",
            " [27 32 'JAWA BARAT' 'KABUPATEN BANDUNG' 40 'ORANG']\n",
            " [28 32 'JAWA BARAT' 'KABUPATEN BANDUNG BARAT' 20 'ORANG']\n",
            " [29 32 'JAWA BARAT' 'KABUPATEN CIAMIS' 3 'ORANG']\n",
            " [30 32 'JAWA BARAT' 'KABUPATEN CIANJUR' 25 'ORANG']\n",
            " [31 32 'JAWA BARAT' 'KABUPATEN CIREBON' 14 'ORANG']\n",
            " [32 32 'JAWA BARAT' 'KABUPATEN GARUT' 105 'ORANG']\n",
            " [33 32 'JAWA BARAT' 'KABUPATEN INDRAMAYU' 45 'ORANG']\n",
            " [34 32 'JAWA BARAT' 'KABUPATEN KARAWANG' 40 'ORANG']\n",
            " [35 32 'JAWA BARAT' 'KABUPATEN KUNINGAN' 21 'ORANG']\n",
            " [36 32 'JAWA BARAT' 'KABUPATEN MAJALENGKA' 43 'ORANG']\n",
            " [37 32 'JAWA BARAT' 'KABUPATEN PANGANDARAN' 5 'ORANG']\n",
            " [38 32 'JAWA BARAT' 'KABUPATEN PURWAKARTA' 7 'ORANG']\n",
            " [39 32 'JAWA BARAT' 'KABUPATEN SUBANG' 21 'ORANG']\n",
            " [40 32 'JAWA BARAT' 'KABUPATEN SUMEDANG' 13 'ORANG']\n",
            " [41 32 'JAWA BARAT' 'KABUPATEN TASIKMALAYA' 4 'ORANG']\n",
            " [42 32 'JAWA BARAT' 'KOTA BANDUNG' 20 'ORANG']\n",
            " [43 32 'JAWA BARAT' 'KOTA BANJAR' 5 'ORANG']\n",
            " [44 32 'JAWA BARAT' 'KOTA CIMAHI' 35 'ORANG']\n",
            " [45 32 'JAWA BARAT' 'KOTA CIREBON' 85 'ORANG']\n",
            " [46 32 'JAWA BARAT' 'KOTA DEPOK' 15 'ORANG']\n",
            " [47 32 'JAWA BARAT' 'KOTA TASIKMALAYA' 5 'ORANG']\n",
            " [48 32 'JAWA BARAT' 'SUKABUMI' 20 'ORANG']]\n"
          ]
        }
      ]
    }
  ]
}